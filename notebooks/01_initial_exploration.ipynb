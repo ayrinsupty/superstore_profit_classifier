{
 "cells": [
  {
   "cell_type": "markdown",
   "id": "eeea370f",
   "metadata": {},
   "source": [
    "# 🛒 Day 1 - Superstore Sales Data Analysis\n",
    "## ✅ Step 1: Load and Explore the Dataset\n",
    "Let's begin by importing the necessary libraries and loading the dataset to understand its structure."
   ]
  },
  {
   "cell_type": "code",
   "execution_count": null,
   "id": "aeb59d37",
   "metadata": {},
   "outputs": [],
   "source": [
    "import pandas as pd\n",
    "\n",
    "# Load the dataset\n",
    "df = pd.read_csv('../data/SuperstoreSales.csv', encoding='ISO-8859-1')"
   ]
  },
  {
   "cell_type": "markdown",
   "id": "f361aceb",
   "metadata": {},
   "source": [
    "## 🔍 Step 2: View Basic Information\n",
    "This will help us understand the number of rows, columns, data types, and memory usage."
   ]
  },
  {
   "cell_type": "code",
   "execution_count": null,
   "id": "5bfbb6f4",
   "metadata": {},
   "outputs": [],
   "source": [
    "# Dataset info\n",
    "df.info()"
   ]
  },
  {
   "cell_type": "markdown",
   "id": "4b45b282",
   "metadata": {},
   "source": [
    "## 🧾 Step 3: Preview the First Few Rows\n",
    "This gives us an idea of how the data is structured and what kind of values are present."
   ]
  },
  {
   "cell_type": "code",
   "execution_count": null,
   "id": "d1f40aa8",
   "metadata": {},
   "outputs": [],
   "source": [
    "# Preview the data\n",
    "df.head()"
   ]
  },
  {
   "cell_type": "markdown",
   "id": "b8b65872",
   "metadata": {},
   "source": [
    "## 🧹 Step 4: Check for Duplicates\n",
    "Let's see if there are any duplicate rows in the dataset that need to be cleaned."
   ]
  },
  {
   "cell_type": "code",
   "execution_count": null,
   "id": "5824a7d9",
   "metadata": {},
   "outputs": [],
   "source": [
    "# Check for duplicates\n",
    "df.duplicated().sum()"
   ]
  },
  {
   "cell_type": "markdown",
   "id": "619c2511",
   "metadata": {},
   "source": [
    "## 📏 Step 5: Check for Missing Values\n",
    "We need to identify missing data so we can decide how to handle it in the cleaning phase."
   ]
  },
  {
   "cell_type": "code",
   "execution_count": null,
   "id": "fe74d09f",
   "metadata": {},
   "outputs": [],
   "source": [
    "# Check for missing values\n",
    "df.isnull().sum()"
   ]
  },
  {
   "cell_type": "markdown",
   "id": "19566090",
   "metadata": {},
   "source": [
    "## ✍️ Step 6: Rename Columns\n",
    "We'll clean up any column names that have spaces or inconsistent formatting for easier access in future steps."
   ]
  },
  {
   "cell_type": "code",
   "execution_count": null,
   "id": "29eadc20",
   "metadata": {},
   "outputs": [],
   "source": [
    "# Rename columns (optional step)\n",
    "df.columns = df.columns.str.strip().str.replace(' ', '_').str.lower()\n",
    "df.columns"
   ]
  },
  {
   "cell_type": "markdown",
   "id": "91f8cf69",
   "metadata": {},
   "source": [
    "## 📊 Step 7: Understand Unique Values in Each Column\n",
    "We’ll inspect categorical fields to get a sense of the distinct entries, which helps in EDA and feature engineering."
   ]
  },
  {
   "cell_type": "code",
   "execution_count": null,
   "id": "54fa7299",
   "metadata": {},
   "outputs": [],
   "source": [
    "# Check unique values for object columns\n",
    "for col in df.select_dtypes(include='object').columns:\n",
    "    print(f\"{col}: {df[col].nunique()} unique values\")"
   ]
  },
  {
   "cell_type": "markdown",
   "id": "5c6adfd7",
   "metadata": {},
   "source": [
    "## 📦 Step 8: Save Cleaned Dataset for Future Use\n",
    "We'll save this version so we don't need to repeat the basic cleanup in upcoming days."
   ]
  },
  {
   "cell_type": "code",
   "execution_count": null,
   "id": "6a60c6f2",
   "metadata": {},
   "outputs": [],
   "source": [
    "# Save cleaned dataset\n",
    "df.to_csv('../data/superstore_cleaned.csv', index=False)"
   ]
  },
  {
   "cell_type": "markdown",
   "id": "dc60bcbf",
   "metadata": {},
   "source": [
    "## ✅ Summary of Day 1\n",
    "- Imported and loaded the Superstore dataset\n",
    "- Inspected structure, null values, and duplicates\n",
    "- Renamed columns for ease of use\n",
    "- Saved a cleaned version for future analysis\n",
    "\n",
    "🚀 Ready to move on to Day 2: Exploratory Data Analysis!"
   ]
  },
  {
   "cell_type": "markdown",
   "id": "e68214e7",
   "metadata": {},
   "source": []
  }
 ],
 "metadata": {
  "kernelspec": {
   "display_name": "Python 3",
   "language": "python",
   "name": "python3"
  },
  "language_info": {
   "codemirror_mode": {
    "name": "ipython",
    "version": 3
   },
   "file_extension": ".py",
   "mimetype": "text/x-python",
   "name": "python",
   "nbconvert_exporter": "python",
   "pygments_lexer": "ipython3",
   "version": "3.13.3"
  }
 },
 "nbformat": 4,
 "nbformat_minor": 5
}
