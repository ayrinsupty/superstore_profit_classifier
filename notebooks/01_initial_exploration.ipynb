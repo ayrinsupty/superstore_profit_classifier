{
 "cells": [
  {
   "cell_type": "markdown",
   "id": "eeea370f",
   "metadata": {},
   "source": [
    "# 🛒 Day 1 - Superstore Sales Data Analysis\n",
    "## ✅ Step 1: Load and Explore the Dataset\n",
    "Let's begin by importing the necessary libraries and loading the dataset to understand its structure."
   ]
  },
  {
   "cell_type": "code",
   "execution_count": 1,
   "id": "aeb59d37",
   "metadata": {},
   "outputs": [],
   "source": [
    "import pandas as pd\n",
    "\n",
    "# Load the dataset\n",
    "df = pd.read_csv('../data/SuperstoreSales.csv', encoding='ISO-8859-1')"
   ]
  },
  {
   "cell_type": "markdown",
   "id": "f361aceb",
   "metadata": {},
   "source": [
    "## 🔍 Step 2: View Basic Information\n",
    "This will help us understand the number of rows, columns, data types, and memory usage."
   ]
  },
  {
   "cell_type": "code",
   "execution_count": 2,
   "id": "5bfbb6f4",
   "metadata": {},
   "outputs": [
    {
     "name": "stdout",
     "output_type": "stream",
     "text": [
      "<class 'pandas.core.frame.DataFrame'>\n",
      "RangeIndex: 8399 entries, 0 to 8398\n",
      "Data columns (total 21 columns):\n",
      " #   Column                Non-Null Count  Dtype  \n",
      "---  ------                --------------  -----  \n",
      " 0   Row ID                8399 non-null   int64  \n",
      " 1   Order ID              8399 non-null   int64  \n",
      " 2   Order Date            8399 non-null   object \n",
      " 3   Order Priority        8399 non-null   object \n",
      " 4   Order Quantity        8399 non-null   int64  \n",
      " 5   Sales                 8399 non-null   float64\n",
      " 6   Discount              8399 non-null   float64\n",
      " 7   Ship Mode             8399 non-null   object \n",
      " 8   Profit                8399 non-null   float64\n",
      " 9   Unit Price            8399 non-null   float64\n",
      " 10  Shipping Cost         8399 non-null   float64\n",
      " 11  Customer Name         8399 non-null   object \n",
      " 12  Province              8399 non-null   object \n",
      " 13  Region                8399 non-null   object \n",
      " 14  Customer Segment      8399 non-null   object \n",
      " 15  Product Category      8399 non-null   object \n",
      " 16  Product Sub-Category  8399 non-null   object \n",
      " 17  Product Name          8399 non-null   object \n",
      " 18  Product Container     8399 non-null   object \n",
      " 19  Product Base Margin   8336 non-null   float64\n",
      " 20  Ship Date             8399 non-null   object \n",
      "dtypes: float64(6), int64(3), object(12)\n",
      "memory usage: 1.3+ MB\n"
     ]
    }
   ],
   "source": [
    "# Dataset info\n",
    "df.info()"
   ]
  },
  {
   "cell_type": "markdown",
   "id": "4b45b282",
   "metadata": {},
   "source": [
    "## 🧾 Step 3: Preview the First Few Rows\n",
    "This gives us an idea of how the data is structured and what kind of values are present."
   ]
  },
  {
   "cell_type": "code",
   "execution_count": 3,
   "id": "d1f40aa8",
   "metadata": {},
   "outputs": [
    {
     "data": {
      "text/html": [
       "<div>\n",
       "<style scoped>\n",
       "    .dataframe tbody tr th:only-of-type {\n",
       "        vertical-align: middle;\n",
       "    }\n",
       "\n",
       "    .dataframe tbody tr th {\n",
       "        vertical-align: top;\n",
       "    }\n",
       "\n",
       "    .dataframe thead th {\n",
       "        text-align: right;\n",
       "    }\n",
       "</style>\n",
       "<table border=\"1\" class=\"dataframe\">\n",
       "  <thead>\n",
       "    <tr style=\"text-align: right;\">\n",
       "      <th></th>\n",
       "      <th>Row ID</th>\n",
       "      <th>Order ID</th>\n",
       "      <th>Order Date</th>\n",
       "      <th>Order Priority</th>\n",
       "      <th>Order Quantity</th>\n",
       "      <th>Sales</th>\n",
       "      <th>Discount</th>\n",
       "      <th>Ship Mode</th>\n",
       "      <th>Profit</th>\n",
       "      <th>Unit Price</th>\n",
       "      <th>...</th>\n",
       "      <th>Customer Name</th>\n",
       "      <th>Province</th>\n",
       "      <th>Region</th>\n",
       "      <th>Customer Segment</th>\n",
       "      <th>Product Category</th>\n",
       "      <th>Product Sub-Category</th>\n",
       "      <th>Product Name</th>\n",
       "      <th>Product Container</th>\n",
       "      <th>Product Base Margin</th>\n",
       "      <th>Ship Date</th>\n",
       "    </tr>\n",
       "  </thead>\n",
       "  <tbody>\n",
       "    <tr>\n",
       "      <th>0</th>\n",
       "      <td>1</td>\n",
       "      <td>3</td>\n",
       "      <td>10/13/2010</td>\n",
       "      <td>Low</td>\n",
       "      <td>6</td>\n",
       "      <td>261.5400</td>\n",
       "      <td>0.04</td>\n",
       "      <td>Regular Air</td>\n",
       "      <td>-213.25</td>\n",
       "      <td>38.94</td>\n",
       "      <td>...</td>\n",
       "      <td>Muhammed MacIntyre</td>\n",
       "      <td>Nunavut</td>\n",
       "      <td>Nunavut</td>\n",
       "      <td>Small Business</td>\n",
       "      <td>Office Supplies</td>\n",
       "      <td>Storage &amp; Organization</td>\n",
       "      <td>Eldon Base for stackable storage shelf, platinum</td>\n",
       "      <td>Large Box</td>\n",
       "      <td>0.80</td>\n",
       "      <td>10/20/2010</td>\n",
       "    </tr>\n",
       "    <tr>\n",
       "      <th>1</th>\n",
       "      <td>49</td>\n",
       "      <td>293</td>\n",
       "      <td>10/1/2012</td>\n",
       "      <td>High</td>\n",
       "      <td>49</td>\n",
       "      <td>10123.0200</td>\n",
       "      <td>0.07</td>\n",
       "      <td>Delivery Truck</td>\n",
       "      <td>457.81</td>\n",
       "      <td>208.16</td>\n",
       "      <td>...</td>\n",
       "      <td>Barry French</td>\n",
       "      <td>Nunavut</td>\n",
       "      <td>Nunavut</td>\n",
       "      <td>Consumer</td>\n",
       "      <td>Office Supplies</td>\n",
       "      <td>Appliances</td>\n",
       "      <td>1.7 Cubic Foot Compact \"Cube\" Office Refrigera...</td>\n",
       "      <td>Jumbo Drum</td>\n",
       "      <td>0.58</td>\n",
       "      <td>10/2/2012</td>\n",
       "    </tr>\n",
       "    <tr>\n",
       "      <th>2</th>\n",
       "      <td>50</td>\n",
       "      <td>293</td>\n",
       "      <td>10/1/2012</td>\n",
       "      <td>High</td>\n",
       "      <td>27</td>\n",
       "      <td>244.5700</td>\n",
       "      <td>0.01</td>\n",
       "      <td>Regular Air</td>\n",
       "      <td>46.71</td>\n",
       "      <td>8.69</td>\n",
       "      <td>...</td>\n",
       "      <td>Barry French</td>\n",
       "      <td>Nunavut</td>\n",
       "      <td>Nunavut</td>\n",
       "      <td>Consumer</td>\n",
       "      <td>Office Supplies</td>\n",
       "      <td>Binders and Binder Accessories</td>\n",
       "      <td>Cardinal Slant-D® Ring Binder, Heavy Gauge Vinyl</td>\n",
       "      <td>Small Box</td>\n",
       "      <td>0.39</td>\n",
       "      <td>10/3/2012</td>\n",
       "    </tr>\n",
       "    <tr>\n",
       "      <th>3</th>\n",
       "      <td>80</td>\n",
       "      <td>483</td>\n",
       "      <td>7/10/2011</td>\n",
       "      <td>High</td>\n",
       "      <td>30</td>\n",
       "      <td>4965.7595</td>\n",
       "      <td>0.08</td>\n",
       "      <td>Regular Air</td>\n",
       "      <td>1198.97</td>\n",
       "      <td>195.99</td>\n",
       "      <td>...</td>\n",
       "      <td>Clay Rozendal</td>\n",
       "      <td>Nunavut</td>\n",
       "      <td>Nunavut</td>\n",
       "      <td>Corporate</td>\n",
       "      <td>Technology</td>\n",
       "      <td>Telephones and Communication</td>\n",
       "      <td>R380</td>\n",
       "      <td>Small Box</td>\n",
       "      <td>0.58</td>\n",
       "      <td>7/12/2011</td>\n",
       "    </tr>\n",
       "    <tr>\n",
       "      <th>4</th>\n",
       "      <td>85</td>\n",
       "      <td>515</td>\n",
       "      <td>8/28/2010</td>\n",
       "      <td>Not Specified</td>\n",
       "      <td>19</td>\n",
       "      <td>394.2700</td>\n",
       "      <td>0.08</td>\n",
       "      <td>Regular Air</td>\n",
       "      <td>30.94</td>\n",
       "      <td>21.78</td>\n",
       "      <td>...</td>\n",
       "      <td>Carlos Soltero</td>\n",
       "      <td>Nunavut</td>\n",
       "      <td>Nunavut</td>\n",
       "      <td>Consumer</td>\n",
       "      <td>Office Supplies</td>\n",
       "      <td>Appliances</td>\n",
       "      <td>Holmes HEPA Air Purifier</td>\n",
       "      <td>Medium Box</td>\n",
       "      <td>0.50</td>\n",
       "      <td>8/30/2010</td>\n",
       "    </tr>\n",
       "  </tbody>\n",
       "</table>\n",
       "<p>5 rows × 21 columns</p>\n",
       "</div>"
      ],
      "text/plain": [
       "   Row ID  Order ID  Order Date Order Priority  Order Quantity       Sales  \\\n",
       "0       1         3  10/13/2010            Low               6    261.5400   \n",
       "1      49       293   10/1/2012           High              49  10123.0200   \n",
       "2      50       293   10/1/2012           High              27    244.5700   \n",
       "3      80       483   7/10/2011           High              30   4965.7595   \n",
       "4      85       515   8/28/2010  Not Specified              19    394.2700   \n",
       "\n",
       "   Discount       Ship Mode   Profit  Unit Price  ...       Customer Name  \\\n",
       "0      0.04     Regular Air  -213.25       38.94  ...  Muhammed MacIntyre   \n",
       "1      0.07  Delivery Truck   457.81      208.16  ...        Barry French   \n",
       "2      0.01     Regular Air    46.71        8.69  ...        Barry French   \n",
       "3      0.08     Regular Air  1198.97      195.99  ...       Clay Rozendal   \n",
       "4      0.08     Regular Air    30.94       21.78  ...      Carlos Soltero   \n",
       "\n",
       "  Province   Region Customer Segment Product Category  \\\n",
       "0  Nunavut  Nunavut   Small Business  Office Supplies   \n",
       "1  Nunavut  Nunavut         Consumer  Office Supplies   \n",
       "2  Nunavut  Nunavut         Consumer  Office Supplies   \n",
       "3  Nunavut  Nunavut        Corporate       Technology   \n",
       "4  Nunavut  Nunavut         Consumer  Office Supplies   \n",
       "\n",
       "             Product Sub-Category  \\\n",
       "0          Storage & Organization   \n",
       "1                      Appliances   \n",
       "2  Binders and Binder Accessories   \n",
       "3    Telephones and Communication   \n",
       "4                      Appliances   \n",
       "\n",
       "                                        Product Name Product Container  \\\n",
       "0   Eldon Base for stackable storage shelf, platinum         Large Box   \n",
       "1  1.7 Cubic Foot Compact \"Cube\" Office Refrigera...        Jumbo Drum   \n",
       "2   Cardinal Slant-D® Ring Binder, Heavy Gauge Vinyl         Small Box   \n",
       "3                                               R380         Small Box   \n",
       "4                           Holmes HEPA Air Purifier        Medium Box   \n",
       "\n",
       "  Product Base Margin   Ship Date  \n",
       "0                0.80  10/20/2010  \n",
       "1                0.58   10/2/2012  \n",
       "2                0.39   10/3/2012  \n",
       "3                0.58   7/12/2011  \n",
       "4                0.50   8/30/2010  \n",
       "\n",
       "[5 rows x 21 columns]"
      ]
     },
     "execution_count": 3,
     "metadata": {},
     "output_type": "execute_result"
    }
   ],
   "source": [
    "# Preview the data\n",
    "df.head()"
   ]
  },
  {
   "cell_type": "markdown",
   "id": "b8b65872",
   "metadata": {},
   "source": [
    "## 🧹 Step 4: Check for Duplicates\n",
    "Let's see if there are any duplicate rows in the dataset that need to be cleaned."
   ]
  },
  {
   "cell_type": "code",
   "execution_count": 4,
   "id": "5824a7d9",
   "metadata": {},
   "outputs": [
    {
     "data": {
      "text/plain": [
       "np.int64(0)"
      ]
     },
     "execution_count": 4,
     "metadata": {},
     "output_type": "execute_result"
    }
   ],
   "source": [
    "# Check for duplicates\n",
    "df.duplicated().sum()"
   ]
  },
  {
   "cell_type": "markdown",
   "id": "619c2511",
   "metadata": {},
   "source": [
    "## 📏 Step 5: Check for Missing Values\n",
    "We need to identify missing data so we can decide how to handle it in the cleaning phase."
   ]
  },
  {
   "cell_type": "code",
   "execution_count": 5,
   "id": "fe74d09f",
   "metadata": {},
   "outputs": [
    {
     "data": {
      "text/plain": [
       "Row ID                   0\n",
       "Order ID                 0\n",
       "Order Date               0\n",
       "Order Priority           0\n",
       "Order Quantity           0\n",
       "Sales                    0\n",
       "Discount                 0\n",
       "Ship Mode                0\n",
       "Profit                   0\n",
       "Unit Price               0\n",
       "Shipping Cost            0\n",
       "Customer Name            0\n",
       "Province                 0\n",
       "Region                   0\n",
       "Customer Segment         0\n",
       "Product Category         0\n",
       "Product Sub-Category     0\n",
       "Product Name             0\n",
       "Product Container        0\n",
       "Product Base Margin     63\n",
       "Ship Date                0\n",
       "dtype: int64"
      ]
     },
     "execution_count": 5,
     "metadata": {},
     "output_type": "execute_result"
    }
   ],
   "source": [
    "# Check for missing values\n",
    "df.isnull().sum()"
   ]
  },
  {
   "cell_type": "markdown",
   "id": "19566090",
   "metadata": {},
   "source": [
    "## ✍️ Step 6: Rename Columns\n",
    "We'll clean up any column names that have spaces or inconsistent formatting for easier access in future steps."
   ]
  },
  {
   "cell_type": "code",
   "execution_count": 6,
   "id": "29eadc20",
   "metadata": {},
   "outputs": [
    {
     "data": {
      "text/plain": [
       "Index(['row_id', 'order_id', 'order_date', 'order_priority', 'order_quantity',\n",
       "       'sales', 'discount', 'ship_mode', 'profit', 'unit_price',\n",
       "       'shipping_cost', 'customer_name', 'province', 'region',\n",
       "       'customer_segment', 'product_category', 'product_sub-category',\n",
       "       'product_name', 'product_container', 'product_base_margin',\n",
       "       'ship_date'],\n",
       "      dtype='object')"
      ]
     },
     "execution_count": 6,
     "metadata": {},
     "output_type": "execute_result"
    }
   ],
   "source": [
    "# Rename columns (optional step)\n",
    "df.columns = df.columns.str.strip().str.replace(' ', '_').str.lower()\n",
    "df.columns"
   ]
  },
  {
   "cell_type": "markdown",
   "id": "91f8cf69",
   "metadata": {},
   "source": [
    "## 📊 Step 7: Understand Unique Values in Each Column\n",
    "We’ll inspect categorical fields to get a sense of the distinct entries, which helps in EDA and feature engineering."
   ]
  },
  {
   "cell_type": "code",
   "execution_count": 7,
   "id": "54fa7299",
   "metadata": {},
   "outputs": [
    {
     "name": "stdout",
     "output_type": "stream",
     "text": [
      "order_date: 1418 unique values\n",
      "order_priority: 5 unique values\n",
      "ship_mode: 3 unique values\n",
      "customer_name: 795 unique values\n",
      "province: 13 unique values\n",
      "region: 8 unique values\n",
      "customer_segment: 4 unique values\n",
      "product_category: 3 unique values\n",
      "product_sub-category: 17 unique values\n",
      "product_name: 1263 unique values\n",
      "product_container: 7 unique values\n",
      "ship_date: 1450 unique values\n"
     ]
    }
   ],
   "source": [
    "# Check unique values for object columns\n",
    "for col in df.select_dtypes(include='object').columns:\n",
    "    print(f\"{col}: {df[col].nunique()} unique values\")"
   ]
  },
  {
   "cell_type": "markdown",
   "id": "5c6adfd7",
   "metadata": {},
   "source": [
    "## 📦 Step 8: Save Cleaned Dataset for Future Use\n",
    "We'll save this version so we don't need to repeat the basic cleanup in upcoming days."
   ]
  },
  {
   "cell_type": "code",
   "execution_count": 8,
   "id": "6a60c6f2",
   "metadata": {},
   "outputs": [],
   "source": [
    "# Save cleaned dataset\n",
    "df.to_csv('../data/superstore_cleaned.csv', index=False)"
   ]
  },
  {
   "cell_type": "markdown",
   "id": "dc60bcbf",
   "metadata": {},
   "source": [
    "## ✅ Summary of Day 1\n",
    "- Imported and loaded the Superstore dataset\n",
    "- Inspected structure, null values, and duplicates\n",
    "- Renamed columns for ease of use\n",
    "- Saved a cleaned version for future analysis\n",
    "\n",
    "🚀 Ready to move on to Day 2: Exploratory Data Analysis!"
   ]
  },
  {
   "cell_type": "markdown",
   "id": "e68214e7",
   "metadata": {},
   "source": []
  }
 ],
 "metadata": {
  "kernelspec": {
   "display_name": "Python 3",
   "language": "python",
   "name": "python3"
  },
  "language_info": {
   "codemirror_mode": {
    "name": "ipython",
    "version": 3
   },
   "file_extension": ".py",
   "mimetype": "text/x-python",
   "name": "python",
   "nbconvert_exporter": "python",
   "pygments_lexer": "ipython3",
   "version": "3.13.3"
  }
 },
 "nbformat": 4,
 "nbformat_minor": 5
}
