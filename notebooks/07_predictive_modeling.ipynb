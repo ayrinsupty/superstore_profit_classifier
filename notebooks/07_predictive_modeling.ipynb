{
 "cells": [
  {
   "cell_type": "markdown",
   "id": "e8cbd08d",
   "metadata": {},
   "source": [
    "## 📊 Day 7 - Predictive Modeling & Dashboard Integration\n",
    "In this final phase, we’ll build a predictive model to estimate high-profit orders and integrate the output into a Streamlit dashboard."
   ]
  },
  {
   "cell_type": "markdown",
   "id": "9e5bbaa2",
   "metadata": {},
   "source": [
    "### 🧹 Step 1: Load Cleaned Data"
   ]
  },
  {
   "cell_type": "code",
   "execution_count": null,
   "id": "baa3f556",
   "metadata": {},
   "outputs": [],
   "source": [
    "import pandas as pd\n",
    "\n",
    "# Load cleaned data\n",
    "df = pd.read_csv('../data/superstore_cleaned.csv')\n",
    "df.head()"
   ]
  },
  {
   "cell_type": "markdown",
   "id": "60f5915b",
   "metadata": {},
   "source": [
    "### 🧪 Step 2: Feature Engineering\n",
    "Create a binary column for high profit, define features, and encode categoricals."
   ]
  },
  {
   "cell_type": "code",
   "execution_count": null,
   "id": "4c3b6bd0",
   "metadata": {},
   "outputs": [],
   "source": [
    "# Create target column: 1 if profit > 100, else 0\n",
    "df['high_profit'] = (df['profit'] > 100).astype(int)\n",
    "\n",
    "# Select features\n",
    "features = ['sales', 'order_quantity', 'discount', 'shipping_cost', 'product_category', 'product_sub-category', 'region']\n",
    "df_model = df[features + ['high_profit']]\n",
    "\n",
    "# One-hot encode categorical variables\n",
    "df_encoded = pd.get_dummies(df_model, drop_first=True)\n",
    "df_encoded.head()"
   ]
  },
  {
   "cell_type": "markdown",
   "id": "7243c436",
   "metadata": {},
   "source": [
    "### 🧠 Step 3: Train-Test Split"
   ]
  },
  {
   "cell_type": "code",
   "execution_count": null,
   "id": "005e3cd7",
   "metadata": {},
   "outputs": [],
   "source": [
    "from sklearn.model_selection import train_test_split\n",
    "\n",
    "X = df_encoded.drop('high_profit', axis=1)\n",
    "y = df_encoded['high_profit']\n",
    "\n",
    "X_train, X_test, y_train, y_test = train_test_split(X, y, test_size=0.2, random_state=42)"
   ]
  },
  {
   "cell_type": "markdown",
   "id": "b5de7a98",
   "metadata": {},
   "source": [
    "### 🌲 Step 4: Train Random Forest Classifier"
   ]
  },
  {
   "cell_type": "code",
   "execution_count": null,
   "id": "c1eb9382",
   "metadata": {},
   "outputs": [],
   "source": [
    "from sklearn.ensemble import RandomForestClassifier\n",
    "from sklearn.metrics import classification_report\n",
    "\n",
    "model = RandomForestClassifier(random_state=42)\n",
    "model.fit(X_train, y_train)\n",
    "\n",
    "y_pred = model.predict(X_test)\n",
    "print(classification_report(y_test, y_pred))"
   ]
  },
  {
   "cell_type": "markdown",
   "id": "2ee909cd",
   "metadata": {},
   "source": [
    "### 💾 Step 5: Save Model and Scaler"
   ]
  },
  {
   "cell_type": "code",
   "execution_count": null,
   "id": "8289f1c3",
   "metadata": {},
   "outputs": [],
   "source": [
    "import pickle\n",
    "import os\n",
    "\n",
    "# Save model and features\n",
    "os.makedirs('model', exist_ok=True)\n",
    "\n",
    "with open('model/model.pkl', 'wb') as f:\n",
    "    pickle.dump(model, f)\n",
    "\n",
    "with open('model/features.pkl', 'wb') as f:\n",
    "    pickle.dump(X.columns.tolist(), f)"
   ]
  },
  {
   "cell_type": "markdown",
   "id": "4072d628",
   "metadata": {},
   "source": [
    "## ✅ Summary of Day 7\n",
    "- Trained a machine learning model to predict high-profit transactions\n",
    "- Prepared cleaned input features for prediction\n",
    "- Integrated the trained model into the Streamlit dashboard\n",
    "- Handled prediction inputs and displayed results interactively\n",
    "\n",
    "🚀 Project Complete! Time to polish the Streamlit app and finalize the presentation."
   ]
  }
 ],
 "metadata": {
  "kernelspec": {
   "display_name": "Python 3",
   "language": "python",
   "name": "python3"
  },
  "language_info": {
   "codemirror_mode": {
    "name": "ipython",
    "version": 3
   },
   "file_extension": ".py",
   "mimetype": "text/x-python",
   "name": "python",
   "nbconvert_exporter": "python",
   "pygments_lexer": "ipython3",
   "version": "3.13.3"
  }
 },
 "nbformat": 4,
 "nbformat_minor": 5
}
